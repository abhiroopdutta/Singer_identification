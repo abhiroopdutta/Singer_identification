{
 "cells": [
  {
   "cell_type": "code",
   "execution_count": 1,
   "metadata": {},
   "outputs": [],
   "source": [
    "# Import the AudioSegment class for processing audio and the \n",
    "# split_on_silence function for separating out silent chunks.\n",
    "from pydub import AudioSegment\n",
    "from pydub.silence import split_on_silence\n",
    "import numpy as np\n",
    "import librosa\n",
    "from pydub.utils import make_chunks"
   ]
  },
  {
   "cell_type": "code",
   "execution_count": 2,
   "metadata": {},
   "outputs": [],
   "source": [
    "#normalize a chunk to a target amplitude.\n",
    "def match_target_amplitude(aChunk, target_dBFS):\n",
    "    ''' Normalize given audio chunk '''\n",
    "    change_in_dBFS = target_dBFS - aChunk.dBFS\n",
    "    return aChunk.apply_gain(change_in_dBFS)\n",
    "\n",
    "#silence removal, normalization and trimming\n",
    "def remove_silence(path):\n",
    "    # Load your audio.\n",
    "    song = AudioSegment.from_file(path)\n",
    "    final_chunk=AudioSegment.empty()\n",
    "    # Split track where the silence is 3 seconds or more and get chunks using \n",
    "    # the imported function.\n",
    "    chunks = split_on_silence (\n",
    "        # Use the loaded audio.\n",
    "        song, \n",
    "        # Specify that a silent chunk must be at least 3 seconds or 3000 ms long.\n",
    "        min_silence_len = 3000,\n",
    "        # Consider a chunk silent if it's quieter than -16 dBFS.\n",
    "        # (You may want to adjust this parameter.)\n",
    "        silence_thresh = -30\n",
    "    )\n",
    "    \n",
    "    # Process each chunk with your parameters\n",
    "    for i, chunk in enumerate(chunks):\n",
    "\n",
    "        # Normalize the entire chunk.\n",
    "        normalized_chunk = match_target_amplitude(chunk, -20.0)\n",
    "\n",
    "        #final chunk made by joining all non silent chunks\n",
    "        final_chunk+=normalized_chunk\n",
    "    \n",
    "    # trimming the song, taking only 60 sec from beginning\n",
    "    final_song = final_chunk[:60000]\n",
    "    return final_song"
   ]
  },
  {
   "cell_type": "code",
   "execution_count": 3,
   "metadata": {},
   "outputs": [],
   "source": [
    "#training dataset location text file\n",
    "location = '/media/abhiroopd/New Volume/audio/'\n",
    "train_dest = 'audio_files/training/'\n",
    "test_dest = 'audio_files/testing/'\n",
    "\n",
    "counter = 1\n",
    "with open(\"allfiles.txt\", \"r\") as training_file:\n",
    "    for path in training_file:\n",
    "        if(counter == 37):\n",
    "            counter = 1\n",
    "        #remove leading and trailing spaces\n",
    "        path = path.strip()\n",
    "        singer_id = path.split('_')[0]\n",
    "        song = remove_silence(location+path)\n",
    "        chunks = make_chunks(song, 10000)\n",
    "        for i, chunk in enumerate(chunks):\n",
    "            if(i>3):\n",
    "                chunk.export(test_dest + singer_id + '_' + str(counter), bitrate = \"192k\", format = \"wav\")\n",
    "            else:\n",
    "                chunk.export(train_dest + singer_id + '_' + str(counter), bitrate = \"192k\", format = \"wav\")\n",
    "\n",
    "            counter = counter + 1\n",
    "        "
   ]
  },
  {
   "cell_type": "code",
   "execution_count": null,
   "metadata": {},
   "outputs": [],
   "source": []
  }
 ],
 "metadata": {
  "kernelspec": {
   "display_name": "Python 3",
   "language": "python",
   "name": "python3"
  },
  "language_info": {
   "codemirror_mode": {
    "name": "ipython",
    "version": 3
   },
   "file_extension": ".py",
   "mimetype": "text/x-python",
   "name": "python",
   "nbconvert_exporter": "python",
   "pygments_lexer": "ipython3",
   "version": "3.6.8"
  }
 },
 "nbformat": 4,
 "nbformat_minor": 2
}
