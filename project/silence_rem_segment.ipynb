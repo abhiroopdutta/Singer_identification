{
 "cells": [
  {
   "cell_type": "code",
   "execution_count": 27,
   "metadata": {},
   "outputs": [],
   "source": [
    "# Import the AudioSegment class for processing audio and the \n",
    "# split_on_silence function for separating out silent chunks.\n",
    "from pydub import AudioSegment\n",
    "from pydub.silence import split_on_silence\n",
    "import numpy as np\n",
    "import librosa\n",
    "from pydub.utils import make_chunks\n",
    "import os"
   ]
  },
  {
   "cell_type": "code",
   "execution_count": 28,
   "metadata": {},
   "outputs": [],
   "source": [
    "#normalize a chunk to a target amplitude.\n",
    "def match_target_amplitude(aChunk, target_dBFS):\n",
    "    ''' Normalize given audio chunk '''\n",
    "    change_in_dBFS = target_dBFS - aChunk.dBFS\n",
    "    return aChunk.apply_gain(change_in_dBFS)\n",
    "\n",
    "#silence removal, normalization and trimming\n",
    "def remove_silence(path):\n",
    "    # Load your audio.\n",
    "    song = AudioSegment.from_file(path)\n",
    "    song = song.set_frame_rate(22050)\n",
    "    final_chunk=AudioSegment.empty()\n",
    "    # Split track where the silence is 3 seconds or more and get chunks using \n",
    "    # the imported function.\n",
    "    chunks = split_on_silence (\n",
    "        # Use the loaded audio.\n",
    "        song, \n",
    "        # Specify that a silent chunk must be at least 3 seconds or 3000 ms long.\n",
    "        min_silence_len = 3000,\n",
    "        # Consider a chunk silent if it's quieter than -16 dBFS.\n",
    "        # (You may want to adjust this parameter.)\n",
    "        silence_thresh = -30\n",
    "    )\n",
    "    \n",
    "    # Process each chunk with your parameters\n",
    "    for i, chunk in enumerate(chunks):\n",
    "\n",
    "        # Normalize the entire chunk.\n",
    "        normalized_chunk = match_target_amplitude(chunk, -20.0)\n",
    "\n",
    "        #final chunk made by joining all non silent chunks\n",
    "        final_chunk+=normalized_chunk\n",
    "    \n",
    "    # trimming the song, taking only 60 sec from beginning\n",
    "    final_song = final_chunk[:60000]\n",
    "    return final_song"
   ]
  },
  {
   "cell_type": "code",
   "execution_count": 29,
   "metadata": {},
   "outputs": [
    {
     "ename": "KeyboardInterrupt",
     "evalue": "",
     "output_type": "error",
     "traceback": [
      "\u001b[0;31m---------------------------------------------------------------------------\u001b[0m",
      "\u001b[0;31mKeyboardInterrupt\u001b[0m                         Traceback (most recent call last)",
      "\u001b[0;32m<ipython-input-29-0c86ff8db805>\u001b[0m in \u001b[0;36m<module>\u001b[0;34m\u001b[0m\n\u001b[1;32m     12\u001b[0m         \u001b[0mpath\u001b[0m \u001b[0;34m=\u001b[0m \u001b[0mpath\u001b[0m\u001b[0;34m.\u001b[0m\u001b[0mstrip\u001b[0m\u001b[0;34m(\u001b[0m\u001b[0;34m)\u001b[0m\u001b[0;34m\u001b[0m\u001b[0;34m\u001b[0m\u001b[0m\n\u001b[1;32m     13\u001b[0m         \u001b[0msinger_id\u001b[0m \u001b[0;34m=\u001b[0m \u001b[0mpath\u001b[0m\u001b[0;34m.\u001b[0m\u001b[0msplit\u001b[0m\u001b[0;34m(\u001b[0m\u001b[0;34m'_'\u001b[0m\u001b[0;34m)\u001b[0m\u001b[0;34m[\u001b[0m\u001b[0;36m0\u001b[0m\u001b[0;34m]\u001b[0m\u001b[0;34m\u001b[0m\u001b[0;34m\u001b[0m\u001b[0m\n\u001b[0;32m---> 14\u001b[0;31m         \u001b[0msong\u001b[0m \u001b[0;34m=\u001b[0m \u001b[0mremove_silence\u001b[0m\u001b[0;34m(\u001b[0m\u001b[0mlocation\u001b[0m\u001b[0;34m+\u001b[0m\u001b[0mpath\u001b[0m\u001b[0;34m)\u001b[0m\u001b[0;34m\u001b[0m\u001b[0;34m\u001b[0m\u001b[0m\n\u001b[0m\u001b[1;32m     15\u001b[0m         \u001b[0mchunks\u001b[0m \u001b[0;34m=\u001b[0m \u001b[0mmake_chunks\u001b[0m\u001b[0;34m(\u001b[0m\u001b[0msong\u001b[0m\u001b[0;34m,\u001b[0m \u001b[0;36m10000\u001b[0m\u001b[0;34m)\u001b[0m\u001b[0;34m\u001b[0m\u001b[0;34m\u001b[0m\u001b[0m\n\u001b[1;32m     16\u001b[0m         \u001b[0;32mfor\u001b[0m \u001b[0mi\u001b[0m\u001b[0;34m,\u001b[0m \u001b[0mchunk\u001b[0m \u001b[0;32min\u001b[0m \u001b[0menumerate\u001b[0m\u001b[0;34m(\u001b[0m\u001b[0mchunks\u001b[0m\u001b[0;34m)\u001b[0m\u001b[0;34m:\u001b[0m\u001b[0;34m\u001b[0m\u001b[0;34m\u001b[0m\u001b[0m\n",
      "\u001b[0;32m<ipython-input-28-a67a4b585c32>\u001b[0m in \u001b[0;36mremove_silence\u001b[0;34m(path)\u001b[0m\n\u001b[1;32m     20\u001b[0m         \u001b[0;31m# Consider a chunk silent if it's quieter than -16 dBFS.\u001b[0m\u001b[0;34m\u001b[0m\u001b[0;34m\u001b[0m\u001b[0;34m\u001b[0m\u001b[0m\n\u001b[1;32m     21\u001b[0m         \u001b[0;31m# (You may want to adjust this parameter.)\u001b[0m\u001b[0;34m\u001b[0m\u001b[0;34m\u001b[0m\u001b[0;34m\u001b[0m\u001b[0m\n\u001b[0;32m---> 22\u001b[0;31m         \u001b[0msilence_thresh\u001b[0m \u001b[0;34m=\u001b[0m \u001b[0;34m-\u001b[0m\u001b[0;36m30\u001b[0m\u001b[0;34m\u001b[0m\u001b[0;34m\u001b[0m\u001b[0m\n\u001b[0m\u001b[1;32m     23\u001b[0m     )\n\u001b[1;32m     24\u001b[0m \u001b[0;34m\u001b[0m\u001b[0m\n",
      "\u001b[0;32m~/Documents/programs/singer_identification/lib/python3.6/site-packages/pydub/silence.py\u001b[0m in \u001b[0;36msplit_on_silence\u001b[0;34m(audio_segment, min_silence_len, silence_thresh, keep_silence, seek_step)\u001b[0m\n\u001b[1;32m    105\u001b[0m     \"\"\"\n\u001b[1;32m    106\u001b[0m \u001b[0;34m\u001b[0m\u001b[0m\n\u001b[0;32m--> 107\u001b[0;31m     \u001b[0mnot_silence_ranges\u001b[0m \u001b[0;34m=\u001b[0m \u001b[0mdetect_nonsilent\u001b[0m\u001b[0;34m(\u001b[0m\u001b[0maudio_segment\u001b[0m\u001b[0;34m,\u001b[0m \u001b[0mmin_silence_len\u001b[0m\u001b[0;34m,\u001b[0m \u001b[0msilence_thresh\u001b[0m\u001b[0;34m,\u001b[0m \u001b[0mseek_step\u001b[0m\u001b[0;34m)\u001b[0m\u001b[0;34m\u001b[0m\u001b[0;34m\u001b[0m\u001b[0m\n\u001b[0m\u001b[1;32m    108\u001b[0m \u001b[0;34m\u001b[0m\u001b[0m\n\u001b[1;32m    109\u001b[0m     \u001b[0mchunks\u001b[0m \u001b[0;34m=\u001b[0m \u001b[0;34m[\u001b[0m\u001b[0;34m]\u001b[0m\u001b[0;34m\u001b[0m\u001b[0;34m\u001b[0m\u001b[0m\n",
      "\u001b[0;32m~/Documents/programs/singer_identification/lib/python3.6/site-packages/pydub/silence.py\u001b[0m in \u001b[0;36mdetect_nonsilent\u001b[0;34m(audio_segment, min_silence_len, silence_thresh, seek_step)\u001b[0m\n\u001b[1;32m     63\u001b[0m \u001b[0;34m\u001b[0m\u001b[0m\n\u001b[1;32m     64\u001b[0m \u001b[0;32mdef\u001b[0m \u001b[0mdetect_nonsilent\u001b[0m\u001b[0;34m(\u001b[0m\u001b[0maudio_segment\u001b[0m\u001b[0;34m,\u001b[0m \u001b[0mmin_silence_len\u001b[0m\u001b[0;34m=\u001b[0m\u001b[0;36m1000\u001b[0m\u001b[0;34m,\u001b[0m \u001b[0msilence_thresh\u001b[0m\u001b[0;34m=\u001b[0m\u001b[0;34m-\u001b[0m\u001b[0;36m16\u001b[0m\u001b[0;34m,\u001b[0m \u001b[0mseek_step\u001b[0m\u001b[0;34m=\u001b[0m\u001b[0;36m1\u001b[0m\u001b[0;34m)\u001b[0m\u001b[0;34m:\u001b[0m\u001b[0;34m\u001b[0m\u001b[0;34m\u001b[0m\u001b[0m\n\u001b[0;32m---> 65\u001b[0;31m     \u001b[0msilent_ranges\u001b[0m \u001b[0;34m=\u001b[0m \u001b[0mdetect_silence\u001b[0m\u001b[0;34m(\u001b[0m\u001b[0maudio_segment\u001b[0m\u001b[0;34m,\u001b[0m \u001b[0mmin_silence_len\u001b[0m\u001b[0;34m,\u001b[0m \u001b[0msilence_thresh\u001b[0m\u001b[0;34m,\u001b[0m \u001b[0mseek_step\u001b[0m\u001b[0;34m)\u001b[0m\u001b[0;34m\u001b[0m\u001b[0;34m\u001b[0m\u001b[0m\n\u001b[0m\u001b[1;32m     66\u001b[0m     \u001b[0mlen_seg\u001b[0m \u001b[0;34m=\u001b[0m \u001b[0mlen\u001b[0m\u001b[0;34m(\u001b[0m\u001b[0maudio_segment\u001b[0m\u001b[0;34m)\u001b[0m\u001b[0;34m\u001b[0m\u001b[0;34m\u001b[0m\u001b[0m\n\u001b[1;32m     67\u001b[0m \u001b[0;34m\u001b[0m\u001b[0m\n",
      "\u001b[0;32m~/Documents/programs/singer_identification/lib/python3.6/site-packages/pydub/silence.py\u001b[0m in \u001b[0;36mdetect_silence\u001b[0;34m(audio_segment, min_silence_len, silence_thresh, seek_step)\u001b[0m\n\u001b[1;32m     29\u001b[0m     \u001b[0;32mfor\u001b[0m \u001b[0mi\u001b[0m \u001b[0;32min\u001b[0m \u001b[0mslice_starts\u001b[0m\u001b[0;34m:\u001b[0m\u001b[0;34m\u001b[0m\u001b[0;34m\u001b[0m\u001b[0m\n\u001b[1;32m     30\u001b[0m         \u001b[0maudio_slice\u001b[0m \u001b[0;34m=\u001b[0m \u001b[0maudio_segment\u001b[0m\u001b[0;34m[\u001b[0m\u001b[0mi\u001b[0m\u001b[0;34m:\u001b[0m\u001b[0mi\u001b[0m \u001b[0;34m+\u001b[0m \u001b[0mmin_silence_len\u001b[0m\u001b[0;34m]\u001b[0m\u001b[0;34m\u001b[0m\u001b[0;34m\u001b[0m\u001b[0m\n\u001b[0;32m---> 31\u001b[0;31m         \u001b[0;32mif\u001b[0m \u001b[0maudio_slice\u001b[0m\u001b[0;34m.\u001b[0m\u001b[0mrms\u001b[0m \u001b[0;34m<=\u001b[0m \u001b[0msilence_thresh\u001b[0m\u001b[0;34m:\u001b[0m\u001b[0;34m\u001b[0m\u001b[0;34m\u001b[0m\u001b[0m\n\u001b[0m\u001b[1;32m     32\u001b[0m             \u001b[0msilence_starts\u001b[0m\u001b[0;34m.\u001b[0m\u001b[0mappend\u001b[0m\u001b[0;34m(\u001b[0m\u001b[0mi\u001b[0m\u001b[0;34m)\u001b[0m\u001b[0;34m\u001b[0m\u001b[0;34m\u001b[0m\u001b[0m\n\u001b[1;32m     33\u001b[0m \u001b[0;34m\u001b[0m\u001b[0m\n",
      "\u001b[0;32m~/Documents/programs/singer_identification/lib/python3.6/site-packages/pydub/audio_segment.py\u001b[0m in \u001b[0;36mrms\u001b[0;34m(self)\u001b[0m\n\u001b[1;32m    983\u001b[0m             \u001b[0;32mreturn\u001b[0m \u001b[0mself\u001b[0m\u001b[0;34m.\u001b[0m\u001b[0mset_sample_width\u001b[0m\u001b[0;34m(\u001b[0m\u001b[0;36m2\u001b[0m\u001b[0;34m)\u001b[0m\u001b[0;34m.\u001b[0m\u001b[0mrms\u001b[0m\u001b[0;34m\u001b[0m\u001b[0;34m\u001b[0m\u001b[0m\n\u001b[1;32m    984\u001b[0m         \u001b[0;32melse\u001b[0m\u001b[0;34m:\u001b[0m\u001b[0;34m\u001b[0m\u001b[0;34m\u001b[0m\u001b[0m\n\u001b[0;32m--> 985\u001b[0;31m             \u001b[0;32mreturn\u001b[0m \u001b[0maudioop\u001b[0m\u001b[0;34m.\u001b[0m\u001b[0mrms\u001b[0m\u001b[0;34m(\u001b[0m\u001b[0mself\u001b[0m\u001b[0;34m.\u001b[0m\u001b[0m_data\u001b[0m\u001b[0;34m,\u001b[0m \u001b[0mself\u001b[0m\u001b[0;34m.\u001b[0m\u001b[0msample_width\u001b[0m\u001b[0;34m)\u001b[0m\u001b[0;34m\u001b[0m\u001b[0;34m\u001b[0m\u001b[0m\n\u001b[0m\u001b[1;32m    986\u001b[0m \u001b[0;34m\u001b[0m\u001b[0m\n\u001b[1;32m    987\u001b[0m     \u001b[0;34m@\u001b[0m\u001b[0mproperty\u001b[0m\u001b[0;34m\u001b[0m\u001b[0;34m\u001b[0m\u001b[0m\n",
      "\u001b[0;31mKeyboardInterrupt\u001b[0m: "
     ]
    }
   ],
   "source": [
    "#training dataset location text file\n",
    "location = '/media/abhiroopd/New Volume/audio/'\n",
    "train_dest = '/media/abhiroopd/New Volume/dataset/training/'\n",
    "test_dest = '/media/abhiroopd/New Volume/dataset/testing/'\n",
    "\n",
    "counter = 1\n",
    "with open(\"final_dataset.txt\", \"r\") as training_file:\n",
    "    for path in training_file:\n",
    "        if(counter == 37):\n",
    "            counter = 1\n",
    "        #remove leading and trailing spaces\n",
    "        path = path.strip()\n",
    "        singer_id = path.split('_')[0]\n",
    "        song = remove_silence(location+path)\n",
    "        chunks = make_chunks(song, 10000)\n",
    "        for i, chunk in enumerate(chunks):\n",
    "            if(i>3):\n",
    "                chunk.export(test_dest + singer_id + '_' + str(counter), bitrate = \"192k\", format = \"wav\")\n",
    "            else:\n",
    "                chunk.export(train_dest + singer_id + '_' + str(counter), bitrate = \"192k\", format = \"wav\")\n",
    "\n",
    "            counter = counter + 1        "
   ]
  },
  {
   "cell_type": "code",
   "execution_count": null,
   "metadata": {},
   "outputs": [],
   "source": [
    "training_files = os.listdir(train_dest)\n",
    "testing_files = os.listdir(test_dest)\n",
    "#manually remove the last new line at the end of train and test txt files\n",
    "with open(\"train.txt\", \"a\") as file:\n",
    "    for item in training_files:\n",
    "        file.write(item + '\\n')\n",
    "    \n",
    "with open(\"test.txt\", \"a\") as file:\n",
    "    for item in testing_files:\n",
    "        file.write(item + '\\n')"
   ]
  }
 ],
 "metadata": {
  "kernelspec": {
   "display_name": "Python 3",
   "language": "python",
   "name": "python3"
  },
  "language_info": {
   "codemirror_mode": {
    "name": "ipython",
    "version": 3
   },
   "file_extension": ".py",
   "mimetype": "text/x-python",
   "name": "python",
   "nbconvert_exporter": "python",
   "pygments_lexer": "ipython3",
   "version": "3.6.9"
  }
 },
 "nbformat": 4,
 "nbformat_minor": 2
}
