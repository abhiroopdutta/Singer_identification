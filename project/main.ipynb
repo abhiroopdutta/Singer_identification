{
 "cells": [
  {
   "cell_type": "code",
   "execution_count": 6,
   "metadata": {},
   "outputs": [],
   "source": [
    "# Import the AudioSegment class for processing audio and the \n",
    "# split_on_silence function for separating out silent chunks.\n",
    "from pydub import AudioSegment \n",
    "from pydub.silence import split_on_silence\n",
    "import numpy as np, matplotlib.pyplot as plot, librosa, librosa.display, sklearn, sys\n",
    "from sklearn.mixture import GaussianMixture as GMM\n",
    "from sklearn.metrics import confusion_matrix\n",
    "from sklearn.utils.multiclass import unique_labels\n",
    "import os, _pickle as cPickle, warnings\n",
    "import matplotlib.pyplot as plt\n",
    "warnings.filterwarnings(\"ignore\")"
   ]
  },
  {
   "cell_type": "code",
   "execution_count": 7,
   "metadata": {},
   "outputs": [],
   "source": [
    "#extracting mfccs and scaling them\n",
    "def scaled_mfccs(path):\n",
    "    # Load your audio.\n",
    "    song = AudioSegment.from_file(path)\n",
    "\n",
    "    #convert the song into numpy array\n",
    "    song_array = song.get_array_of_samples()\n",
    "    song_array = np.array(song_array)\n",
    "    \n",
    "    song_array = song_array.astype(float)\n",
    "    mfccs = librosa.feature.mfcc(song_array,n_mfcc=20)\n",
    "    \n",
    "    #scaling the MFCCs such that each coefficient dimension has zero mean and unit variance\n",
    "    mfccs = sklearn.preprocessing.scale(mfccs,axis =1)\n",
    "    mfccs = mfccs.transpose()\n",
    "    return mfccs"
   ]
  },
  {
   "cell_type": "code",
   "execution_count": 8,
   "metadata": {
    "scrolled": true
   },
   "outputs": [
    {
     "name": "stdout",
     "output_type": "stream",
     "text": [
      "+ modeling completed for speaker: 32373500.gmm  with data point =  (10344, 20)\n",
      "+ modeling completed for speaker: 32449093.gmm  with data point =  (10344, 20)\n",
      "+ modeling completed for speaker: 36323632.gmm  with data point =  (10344, 20)\n",
      "+ modeling completed for speaker: 497880111.gmm  with data point =  (10344, 20)\n",
      "+ modeling completed for speaker: 498270772.gmm  with data point =  (10344, 20)\n",
      "+ modeling completed for speaker: 986060482.gmm  with data point =  (10344, 20)\n",
      "+ modeling completed for speaker: 986846141.gmm  with data point =  (10344, 20)\n",
      "+ modeling completed for speaker: 993830107.gmm  with data point =  (10344, 20)\n",
      "+ modeling completed for speaker: 997943995.gmm  with data point =  (10344, 20)\n"
     ]
    }
   ],
   "source": [
    "#training dataset location text file\n",
    "location = '/media/abhiroopd/New Volume/dataset/training/'\n",
    "dest = \"trained_models/\"\n",
    "\n",
    "\n",
    "#24 songs of 10 sec per singer, each has mfccs of size 431x20?, we stack them vertically\n",
    "features = np.empty([10344, 20])\n",
    "count = 1 \n",
    "i = 0\n",
    "with open(\"train.txt\", \"r\") as training_file:\n",
    "    for path in training_file:\n",
    "        #remove leading and trailing spaces\n",
    "        path = path.strip()\n",
    "        mfccs = scaled_mfccs(location+path)\n",
    "#         np.set_printoptions(threshold=sys.maxsize)\n",
    "        \n",
    "        if(count <= 24):\n",
    "            features[i:i+431, :] = mfccs\n",
    "            i = i+431\n",
    "        if(count == 24):  \n",
    "            gmm =  GMM(n_components=8).fit(features)\n",
    "        \n",
    "            #dump the results in pickle file\n",
    "            picklefile = path.split(\"_\")[0]+\".gmm\"\n",
    "            cPickle.dump(gmm,open(dest + picklefile,'wb'))\n",
    "            print('+ modeling completed for speaker:',picklefile,\" with data point = \",features.shape)\n",
    "            \n",
    "            count = 0\n",
    "            i = 0\n",
    "        count = count+1    "
   ]
  },
  {
   "cell_type": "code",
   "execution_count": 9,
   "metadata": {},
   "outputs": [],
   "source": [
    "#path to test data \n",
    "test_location = '/media/abhiroopd/New Volume/dataset/testing/'\n",
    "\n",
    "#path to trained models\n",
    "modelpath = \"trained_models/\"\n",
    "s\n",
    "#get a list of path of all the GMM model files \n",
    "gmm_files = [os.path.join(modelpath,file) for file in\n",
    "              os.listdir(modelpath) if file.endswith('.gmm')]\n",
    "\n",
    "#extract the id of the speaker corresponding to each GMM model\n",
    "speakers  = [file.split(\"/\")[-1].split(\".gmm\")[0] for file\n",
    "              in gmm_files]\n",
    "y_truth = []\n",
    "y_pred = []\n",
    "\n",
    "with open(\"test.txt\",\"r\") as test_paths:\n",
    "    for i,path in enumerate(test_paths):\n",
    "        y_truth.append(path.split('_')[0])\n",
    "        path = path.strip()\n",
    "        mfccs = scaled_mfccs(test_location+path)\n",
    "        \n",
    "        #create an empty array to store the log-likelihood corresponding to each model\n",
    "        log_likelihood = np.zeros(len(gmm_files)) \n",
    "         \n",
    "        for i in range(len(gmm_files)):\n",
    "            file = gmm_files[i]\n",
    "            gmm = cPickle.load(open(file,'rb'))  #checking with each model one by one\n",
    "            scores = np.array(gmm.score(mfccs))\n",
    "            log_likelihood[i] = scores.sum()\n",
    "        \n",
    "        #getting the index of the model giving the maximum likelihood value\n",
    "        winner = np.argmax(log_likelihood)\n",
    "        y_pred.append(speakers[winner])"
   ]
  },
  {
   "cell_type": "code",
   "execution_count": 10,
   "metadata": {},
   "outputs": [
    {
     "name": "stdout",
     "output_type": "stream",
     "text": [
      "Confusion matrix\n",
      "[[12  0  0  0  0  0  0  0  0]\n",
      " [ 0 12  0  0  0  0  0  0  0]\n",
      " [ 0  0 12  0  0  0  0  0  0]\n",
      " [ 0  0  0 12  0  0  0  0  0]\n",
      " [ 0  0  0  0 12  0  0  0  0]\n",
      " [ 0  0  0  0  0 11  0  1  0]\n",
      " [ 0  0  0  0  0  0 12  0  0]\n",
      " [ 0  0  0  0  0  0  0 12  0]\n",
      " [ 0  0  0  0  0  0  0  0 12]]\n"
     ]
    },
    {
     "data": {
      "image/png": "[encoded data removed]",
      "text/plain": [
       "<Figure size 432x288 with 2 Axes>"
      ]
     },
     "metadata": {
      "needs_background": "light"
     },
     "output_type": "display_data"
    }
   ],
   "source": [
    "class_names = [int(i) for i in speakers]\n",
    "y_truth = [int(i) for i in y_truth]\n",
    "y_pred = [int(i) for i in y_pred]\n",
    "def plot_confusion_matrix(y_true, y_pred, classes,\n",
    "                          title=None,\n",
    "                          cmap=plt.cm.Blues):\n",
    "    \"\"\"\n",
    "    This function prints and plots the confusion matrix.\n",
    "\n",
    "    \"\"\"\n",
    "    \n",
    "    title = title\n",
    "\n",
    "    # Compute confusion matrix\n",
    "    cm = confusion_matrix(y_truth, y_pred)\n",
    "    # Only use the labels that appear in the data\n",
    "\n",
    "    print('Confusion matrix')\n",
    "\n",
    "    print(cm)\n",
    "\n",
    "    fig, ax = plt.subplots()\n",
    "    im = ax.imshow(cm, interpolation='nearest', cmap=cmap)\n",
    "    ax.figure.colorbar(im, ax=ax)\n",
    "    # We want to show all ticks...\n",
    "    ax.set(xticks=np.arange(cm.shape[1]),\n",
    "           yticks=np.arange(cm.shape[0]),\n",
    "           # ... and label them with the respective list entries\n",
    "           xticklabels=classes, yticklabels=classes,\n",
    "           title=title,\n",
    "           ylabel='True label',\n",
    "           xlabel='Predicted label')\n",
    "\n",
    "    # Rotate the tick labels and set their alignment.\n",
    "    plt.setp(ax.get_xticklabels(), rotation=45, ha=\"right\",\n",
    "             rotation_mode=\"anchor\")\n",
    "\n",
    "    #Loop over data dimensions and create text annotations.\n",
    "\n",
    "    thresh = cm.max() / 2.\n",
    "    for i in range(cm.shape[0]):\n",
    "        for j in range(cm.shape[1]):\n",
    "            ax.text(j, i, format(cm[i, j]),\n",
    "                    ha=\"center\", va=\"center\",\n",
    "                    color=\"white\" if cm[i, j] > thresh else \"black\")\n",
    "    fig.tight_layout()\n",
    "    return ax\n",
    "\n",
    "\n",
    "np.set_printoptions(precision=2)\n",
    "\n",
    "# Plot non-normalized confusion matrix\n",
    "plot_confusion_matrix(y_truth, y_pred, classes=class_names,\n",
    "                      title='Confusion matrix')\n",
    "\n",
    "plt.show()"
   ]
  },
  {
   "cell_type": "code",
   "execution_count": null,
   "metadata": {},
   "outputs": [],
   "source": []
  }
 ],
 "metadata": {
  "kernelspec": {
   "display_name": "Python 3",
   "language": "python",
   "name": "python3"
  },
  "language_info": {
   "codemirror_mode": {
    "name": "ipython",
    "version": 3
   },
   "file_extension": ".py",
   "mimetype": "text/x-python",
   "name": "python",
   "nbconvert_exporter": "python",
   "pygments_lexer": "ipython3",
   "version": "3.6.9"
  }
 },
 "nbformat": 4,
 "nbformat_minor": 2
}
