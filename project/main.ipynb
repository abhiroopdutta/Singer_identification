{
 "cells": [
  {
   "cell_type": "code",
   "execution_count": 1,
   "metadata": {},
   "outputs": [],
   "source": [
    "# Import the AudioSegment class for processing audio and the \n",
    "# split_on_silence function for separating out silent chunks.\n",
    "from pydub import AudioSegment\n",
    "from pydub.silence import split_on_silence\n",
    "import numpy as np\n",
    "import librosa"
   ]
  },
  {
   "cell_type": "code",
   "execution_count": 4,
   "metadata": {},
   "outputs": [],
   "source": [
    "# Define a function to normalize a chunk to a target amplitude.\n",
    "def match_target_amplitude(aChunk, target_dBFS):\n",
    "    ''' Normalize given audio chunk '''\n",
    "    change_in_dBFS = target_dBFS - aChunk.dBFS\n",
    "    return aChunk.apply_gain(change_in_dBFS)\n",
    "\n",
    "# Load your audio.\n",
    "song = AudioSegment.from_file('test.m4a')\n",
    "final_chunk=AudioSegment.empty()\n",
    "# Split track where the silence is 3 seconds or more and get chunks using \n",
    "# the imported function.\n",
    "chunks = split_on_silence (\n",
    "    # Use the loaded audio.\n",
    "    song, \n",
    "    # Specify that a silent chunk must be at least 3 seconds or 3000 ms long.\n",
    "    min_silence_len = 3000,\n",
    "    # Consider a chunk silent if it's quieter than -16 dBFS.\n",
    "    # (You may want to adjust this parameter.)\n",
    "    silence_thresh = -30\n",
    ")\n",
    "\n",
    "# Process each chunk with your parameters\n",
    "for i, chunk in enumerate(chunks):\n",
    "    normalized_chunk = match_target_amplitude(chunk, -20.0)\n",
    "    \n",
    "    # Normalize the entire chunk.\n",
    "    normalized_chunk = match_target_amplitude(chunk, -20.0)\n",
    "    \n",
    "    #final chunk made by joining all non silent chunks\n",
    "    final_chunk+=normalized_chunk\n",
    "\n",
    "final_chunk.export(\n",
    "        \".//new_final_chunk.wav\",\n",
    "        bitrate = \"192k\",\n",
    "        format = \"wav\"\n",
    "     )    \n",
    "# trimming the song, taking only 1 sec from beginning\n",
    "final_song = final_chunk[:1000]\n",
    "\n",
    "#convert the song into numpy array\n",
    "song_array = final_song.get_array_of_samples()\n",
    "song_array = np.array(song_array)"
   ]
  },
  {
   "cell_type": "code",
   "execution_count": 7,
   "metadata": {},
   "outputs": [],
   "source": [
    "#extracting mfcc\n",
    "song_array = song_array.astype(float)\n",
    "mfccs = librosa.feature.mfcc(song_array)"
   ]
  },
  {
   "cell_type": "code",
   "execution_count": null,
   "metadata": {},
   "outputs": [],
   "source": []
  }
 ],
 "metadata": {
  "kernelspec": {
   "display_name": "Python 3",
   "language": "python",
   "name": "python3"
  },
  "language_info": {
   "codemirror_mode": {
    "name": "ipython",
    "version": 3
   },
   "file_extension": ".py",
   "mimetype": "text/x-python",
   "name": "python",
   "nbconvert_exporter": "python",
   "pygments_lexer": "ipython3",
   "version": "3.6.8"
  }
 },
 "nbformat": 4,
 "nbformat_minor": 2
}
