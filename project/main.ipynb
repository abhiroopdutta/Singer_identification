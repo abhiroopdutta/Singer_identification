{
 "cells": [
  {
   "cell_type": "code",
   "execution_count": 74,
   "metadata": {},
   "outputs": [],
   "source": [
    "# Import the AudioSegment class for processing audio and the \n",
    "# split_on_silence function for separating out silent chunks.\n",
    "from pydub import AudioSegment \n",
    "from pydub.silence import split_on_silence\n",
    "import numpy as np, matplotlib.pyplot as plot, librosa, librosa.display, sklearn\n",
    "from sklearn.mixture import GaussianMixture as GMM"
   ]
  },
  {
   "cell_type": "code",
   "execution_count": 75,
   "metadata": {},
   "outputs": [],
   "source": [
    "#normalize a chunk to a target amplitude.\n",
    "def match_target_amplitude(aChunk, target_dBFS):\n",
    "    ''' Normalize given audio chunk '''\n",
    "    change_in_dBFS = target_dBFS - aChunk.dBFS\n",
    "    return aChunk.apply_gain(change_in_dBFS)\n",
    "\n",
    "#silence removal, normalization and trimming\n",
    "def remove_silence(path):\n",
    "    # Load your audio.\n",
    "    song = AudioSegment.from_file(path)\n",
    "    final_chunk=AudioSegment.empty()\n",
    "    # Split track where the silence is 3 seconds or more and get chunks using \n",
    "    # the imported function.\n",
    "    chunks = split_on_silence (\n",
    "        # Use the loaded audio.\n",
    "        song, \n",
    "        # Specify that a silent chunk must be at least 3 seconds or 3000 ms long.\n",
    "        min_silence_len = 3000,\n",
    "        # Consider a chunk silent if it's quieter than -16 dBFS.\n",
    "        # (You may want to adjust this parameter.)\n",
    "        silence_thresh = -30\n",
    "    )\n",
    "    \n",
    "    # Process each chunk with your parameters\n",
    "    for i, chunk in enumerate(chunks):\n",
    "\n",
    "        # Normalize the entire chunk.\n",
    "        normalized_chunk = match_target_amplitude(chunk, -20.0)\n",
    "\n",
    "        #final chunk made by joining all non silent chunks\n",
    "        final_chunk+=normalized_chunk\n",
    "    \n",
    "    # trimming the song, taking only 1 sec from beginning\n",
    "    final_song = final_chunk[:3000]\n",
    "\n",
    "    #convert the song into numpy array\n",
    "    song_array = final_song.get_array_of_samples()\n",
    "    song_array = np.array(song_array)\n",
    "    return song_array"
   ]
  },
  {
   "cell_type": "code",
   "execution_count": 81,
   "metadata": {},
   "outputs": [],
   "source": [
    "#extracting mfccs and scaling them\n",
    "def scaled_mfccs(song_array):\n",
    "    song_array = song_array.astype(float)\n",
    "    mfccs = librosa.feature.mfcc(song_array)\n",
    "\n",
    "    mfccs.shape\n",
    "\n",
    "    #scaling the MFCCs such that each coefficient dimension has zero mean and unit variance\n",
    "    mfccs = sklearn.preprocessing.scale(mfccs,axis =1)\n",
    "    return mfccs"
   ]
  },
  {
   "cell_type": "code",
   "execution_count": 83,
   "metadata": {},
   "outputs": [
    {
     "name": "stderr",
     "output_type": "stream",
     "text": [
      "/home/abhiroopd/Documents/programs/singer_identification/lib/python3.6/site-packages/sklearn/preprocessing/data.py:172: UserWarning: Numerical issues were encountered when centering the data and might not be solved. Dataset may contain too large values. You may need to prescale your features.\n",
      "  warnings.warn(\"Numerical issues were encountered \"\n",
      "/home/abhiroopd/Documents/programs/singer_identification/lib/python3.6/site-packages/sklearn/preprocessing/data.py:189: UserWarning: Numerical issues were encountered when scaling the data and might not be solved. The standard deviation of the data is probably very close to 0. \n",
      "  warnings.warn(\"Numerical issues were encountered \"\n"
     ]
    },
    {
     "name": "stdout",
     "output_type": "stream",
     "text": [
      "[[ 1.3632306   1.640806    1.3988211  ...  0.66394186  1.5969443\n",
      "   2.0215106 ]\n",
      " [ 0.37253585  0.07678032 -0.6415382  ... -1.4644393   1.5414789\n",
      "   2.770458  ]\n",
      " [ 1.4303244   1.1954463   1.0692059  ...  0.05693255  2.1774147\n",
      "   2.6333504 ]\n",
      " ...\n",
      " [-1.1161904  -1.4201326  -2.0173247  ... -0.8784792  -0.07393476\n",
      "   0.3094097 ]\n",
      " [ 0.5544368   0.7905632   0.94015706 ... -1.5071517   0.8284061\n",
      "   1.3935202 ]\n",
      " [ 0.93948853  0.69394344  0.44644436 ... -1.431064   -0.18187514\n",
      "  -0.04670621]]\n"
     ]
    },
    {
     "name": "stderr",
     "output_type": "stream",
     "text": [
      "/home/abhiroopd/Documents/programs/singer_identification/lib/python3.6/site-packages/sklearn/preprocessing/data.py:172: UserWarning: Numerical issues were encountered when centering the data and might not be solved. Dataset may contain too large values. You may need to prescale your features.\n",
      "  warnings.warn(\"Numerical issues were encountered \"\n",
      "/home/abhiroopd/Documents/programs/singer_identification/lib/python3.6/site-packages/sklearn/preprocessing/data.py:189: UserWarning: Numerical issues were encountered when scaling the data and might not be solved. The standard deviation of the data is probably very close to 0. \n",
      "  warnings.warn(\"Numerical issues were encountered \"\n"
     ]
    },
    {
     "name": "stdout",
     "output_type": "stream",
     "text": [
      "[[-0.86812305 -0.14651388  0.5256825  ... -0.6557807  -0.11671276\n",
      "   0.2372389 ]\n",
      " [ 1.9533459   1.7237003   0.96105367 ...  0.39567235  1.2583448\n",
      "   1.5095646 ]\n",
      " [ 2.6054204   1.9208101   0.5414626  ... -0.6737387   0.6223404\n",
      "   0.8870935 ]\n",
      " ...\n",
      " [ 0.13251121 -1.1241282  -2.6743999  ...  0.09646544  1.3682125\n",
      "   1.946963  ]\n",
      " [ 0.31433728  0.35491377  0.41019085 ...  1.6144633   2.277802\n",
      "   2.3501828 ]\n",
      " [-0.301741   -1.1891048  -0.7515703  ... -0.64783365  0.09245215\n",
      "   0.43651664]]\n"
     ]
    },
    {
     "name": "stderr",
     "output_type": "stream",
     "text": [
      "/home/abhiroopd/Documents/programs/singer_identification/lib/python3.6/site-packages/sklearn/preprocessing/data.py:172: UserWarning: Numerical issues were encountered when centering the data and might not be solved. Dataset may contain too large values. You may need to prescale your features.\n",
      "  warnings.warn(\"Numerical issues were encountered \"\n",
      "/home/abhiroopd/Documents/programs/singer_identification/lib/python3.6/site-packages/sklearn/preprocessing/data.py:189: UserWarning: Numerical issues were encountered when scaling the data and might not be solved. The standard deviation of the data is probably very close to 0. \n",
      "  warnings.warn(\"Numerical issues were encountered \"\n"
     ]
    },
    {
     "name": "stdout",
     "output_type": "stream",
     "text": [
      "[[ 1.3380598   1.8252403   1.5666443  ... -2.1518672  -1.380274\n",
      "  -1.1673095 ]\n",
      " [-2.4982097  -1.7650446  -1.3441982  ...  0.8566334   1.7995794\n",
      "   1.9716705 ]\n",
      " [ 1.6964304   1.4386306   0.7018656  ... -0.22939736  1.4453534\n",
      "   2.115191  ]\n",
      " ...\n",
      " [ 0.2668121   1.2826799   1.7621355  ...  0.20969066  0.5819429\n",
      "   0.5124278 ]\n",
      " [ 0.27180538  1.0343214   2.0783222  ... -0.45561332  0.4474427\n",
      "   0.5079907 ]\n",
      " [ 1.310947    1.9063574   2.6584659  ...  0.60135686  1.1179394\n",
      "   1.3788754 ]]\n"
     ]
    },
    {
     "name": "stderr",
     "output_type": "stream",
     "text": [
      "/home/abhiroopd/Documents/programs/singer_identification/lib/python3.6/site-packages/sklearn/preprocessing/data.py:172: UserWarning: Numerical issues were encountered when centering the data and might not be solved. Dataset may contain too large values. You may need to prescale your features.\n",
      "  warnings.warn(\"Numerical issues were encountered \"\n",
      "/home/abhiroopd/Documents/programs/singer_identification/lib/python3.6/site-packages/sklearn/preprocessing/data.py:189: UserWarning: Numerical issues were encountered when scaling the data and might not be solved. The standard deviation of the data is probably very close to 0. \n",
      "  warnings.warn(\"Numerical issues were encountered \"\n"
     ]
    },
    {
     "name": "stdout",
     "output_type": "stream",
     "text": [
      "[[-7.3485827e-01 -9.7216308e-02  4.1023374e-01 ...  2.6480585e-01\n",
      "   1.0144421e+00  1.4217718e+00]\n",
      " [-5.1493722e-01 -1.3203521e+00 -1.9737813e+00 ... -7.9583354e-02\n",
      "   8.3350372e-01  1.3398709e+00]\n",
      " [ 2.0318009e-01  1.2899083e+00  1.9120281e+00 ... -5.7398075e-01\n",
      "   6.6052705e-01  1.0117389e+00]\n",
      " ...\n",
      " [ 1.1302150e+00  9.8039860e-01  1.7427371e-01 ...  2.3688822e+00\n",
      "   1.9404302e+00  1.7384697e+00]\n",
      " [ 4.4696921e-01 -1.7309082e-01 -8.3614903e-04 ... -1.0496061e+00\n",
      "  -9.7383296e-01 -6.4700717e-01]\n",
      " [ 4.9684444e-01  5.3546751e-01  6.2295783e-01 ... -1.7615104e+00\n",
      "  -1.5168983e+00 -1.3484982e+00]]\n"
     ]
    },
    {
     "ename": "KeyboardInterrupt",
     "evalue": "",
     "output_type": "error",
     "traceback": [
      "\u001b[0;31m---------------------------------------------------------------------------\u001b[0m",
      "\u001b[0;31mKeyboardInterrupt\u001b[0m                         Traceback (most recent call last)",
      "\u001b[0;32m<ipython-input-83-c58718d5ab65>\u001b[0m in \u001b[0;36m<module>\u001b[0;34m\u001b[0m\n\u001b[1;32m      9\u001b[0m         \u001b[0;31m#remove leading and trailing spaces\u001b[0m\u001b[0;34m\u001b[0m\u001b[0;34m\u001b[0m\u001b[0;34m\u001b[0m\u001b[0m\n\u001b[1;32m     10\u001b[0m         \u001b[0mpath\u001b[0m \u001b[0;34m=\u001b[0m \u001b[0mpath\u001b[0m\u001b[0;34m.\u001b[0m\u001b[0mstrip\u001b[0m\u001b[0;34m(\u001b[0m\u001b[0;34m)\u001b[0m\u001b[0;34m\u001b[0m\u001b[0;34m\u001b[0m\u001b[0m\n\u001b[0;32m---> 11\u001b[0;31m         \u001b[0msong_array\u001b[0m \u001b[0;34m=\u001b[0m \u001b[0mremove_silence\u001b[0m\u001b[0;34m(\u001b[0m\u001b[0mlocation\u001b[0m\u001b[0;34m+\u001b[0m\u001b[0mpath\u001b[0m\u001b[0;34m)\u001b[0m\u001b[0;34m\u001b[0m\u001b[0;34m\u001b[0m\u001b[0m\n\u001b[0m\u001b[1;32m     12\u001b[0m         \u001b[0mmfccs\u001b[0m \u001b[0;34m=\u001b[0m \u001b[0mscaled_mfccs\u001b[0m\u001b[0;34m(\u001b[0m\u001b[0msong_array\u001b[0m\u001b[0;34m)\u001b[0m\u001b[0;34m\u001b[0m\u001b[0;34m\u001b[0m\u001b[0m\n\u001b[1;32m     13\u001b[0m         \u001b[0mprint\u001b[0m\u001b[0;34m(\u001b[0m\u001b[0mmfccs\u001b[0m\u001b[0;34m)\u001b[0m\u001b[0;34m\u001b[0m\u001b[0;34m\u001b[0m\u001b[0m\n",
      "\u001b[0;32m<ipython-input-75-8e080fcafb0c>\u001b[0m in \u001b[0;36mremove_silence\u001b[0;34m(path)\u001b[0m\n\u001b[1;32m     19\u001b[0m         \u001b[0;31m# Consider a chunk silent if it's quieter than -16 dBFS.\u001b[0m\u001b[0;34m\u001b[0m\u001b[0;34m\u001b[0m\u001b[0;34m\u001b[0m\u001b[0m\n\u001b[1;32m     20\u001b[0m         \u001b[0;31m# (You may want to adjust this parameter.)\u001b[0m\u001b[0;34m\u001b[0m\u001b[0;34m\u001b[0m\u001b[0;34m\u001b[0m\u001b[0m\n\u001b[0;32m---> 21\u001b[0;31m         \u001b[0msilence_thresh\u001b[0m \u001b[0;34m=\u001b[0m \u001b[0;34m-\u001b[0m\u001b[0;36m30\u001b[0m\u001b[0;34m\u001b[0m\u001b[0;34m\u001b[0m\u001b[0m\n\u001b[0m\u001b[1;32m     22\u001b[0m     )\n\u001b[1;32m     23\u001b[0m \u001b[0;34m\u001b[0m\u001b[0m\n",
      "\u001b[0;32m~/Documents/programs/singer_identification/lib/python3.6/site-packages/pydub/silence.py\u001b[0m in \u001b[0;36msplit_on_silence\u001b[0;34m(audio_segment, min_silence_len, silence_thresh, keep_silence, seek_step)\u001b[0m\n\u001b[1;32m    105\u001b[0m     \"\"\"\n\u001b[1;32m    106\u001b[0m \u001b[0;34m\u001b[0m\u001b[0m\n\u001b[0;32m--> 107\u001b[0;31m     \u001b[0mnot_silence_ranges\u001b[0m \u001b[0;34m=\u001b[0m \u001b[0mdetect_nonsilent\u001b[0m\u001b[0;34m(\u001b[0m\u001b[0maudio_segment\u001b[0m\u001b[0;34m,\u001b[0m \u001b[0mmin_silence_len\u001b[0m\u001b[0;34m,\u001b[0m \u001b[0msilence_thresh\u001b[0m\u001b[0;34m,\u001b[0m \u001b[0mseek_step\u001b[0m\u001b[0;34m)\u001b[0m\u001b[0;34m\u001b[0m\u001b[0;34m\u001b[0m\u001b[0m\n\u001b[0m\u001b[1;32m    108\u001b[0m \u001b[0;34m\u001b[0m\u001b[0m\n\u001b[1;32m    109\u001b[0m     \u001b[0mchunks\u001b[0m \u001b[0;34m=\u001b[0m \u001b[0;34m[\u001b[0m\u001b[0;34m]\u001b[0m\u001b[0;34m\u001b[0m\u001b[0;34m\u001b[0m\u001b[0m\n",
      "\u001b[0;32m~/Documents/programs/singer_identification/lib/python3.6/site-packages/pydub/silence.py\u001b[0m in \u001b[0;36mdetect_nonsilent\u001b[0;34m(audio_segment, min_silence_len, silence_thresh, seek_step)\u001b[0m\n\u001b[1;32m     63\u001b[0m \u001b[0;34m\u001b[0m\u001b[0m\n\u001b[1;32m     64\u001b[0m \u001b[0;32mdef\u001b[0m \u001b[0mdetect_nonsilent\u001b[0m\u001b[0;34m(\u001b[0m\u001b[0maudio_segment\u001b[0m\u001b[0;34m,\u001b[0m \u001b[0mmin_silence_len\u001b[0m\u001b[0;34m=\u001b[0m\u001b[0;36m1000\u001b[0m\u001b[0;34m,\u001b[0m \u001b[0msilence_thresh\u001b[0m\u001b[0;34m=\u001b[0m\u001b[0;34m-\u001b[0m\u001b[0;36m16\u001b[0m\u001b[0;34m,\u001b[0m \u001b[0mseek_step\u001b[0m\u001b[0;34m=\u001b[0m\u001b[0;36m1\u001b[0m\u001b[0;34m)\u001b[0m\u001b[0;34m:\u001b[0m\u001b[0;34m\u001b[0m\u001b[0;34m\u001b[0m\u001b[0m\n\u001b[0;32m---> 65\u001b[0;31m     \u001b[0msilent_ranges\u001b[0m \u001b[0;34m=\u001b[0m \u001b[0mdetect_silence\u001b[0m\u001b[0;34m(\u001b[0m\u001b[0maudio_segment\u001b[0m\u001b[0;34m,\u001b[0m \u001b[0mmin_silence_len\u001b[0m\u001b[0;34m,\u001b[0m \u001b[0msilence_thresh\u001b[0m\u001b[0;34m,\u001b[0m \u001b[0mseek_step\u001b[0m\u001b[0;34m)\u001b[0m\u001b[0;34m\u001b[0m\u001b[0;34m\u001b[0m\u001b[0m\n\u001b[0m\u001b[1;32m     66\u001b[0m     \u001b[0mlen_seg\u001b[0m \u001b[0;34m=\u001b[0m \u001b[0mlen\u001b[0m\u001b[0;34m(\u001b[0m\u001b[0maudio_segment\u001b[0m\u001b[0;34m)\u001b[0m\u001b[0;34m\u001b[0m\u001b[0;34m\u001b[0m\u001b[0m\n\u001b[1;32m     67\u001b[0m \u001b[0;34m\u001b[0m\u001b[0m\n",
      "\u001b[0;32m~/Documents/programs/singer_identification/lib/python3.6/site-packages/pydub/silence.py\u001b[0m in \u001b[0;36mdetect_silence\u001b[0;34m(audio_segment, min_silence_len, silence_thresh, seek_step)\u001b[0m\n\u001b[1;32m     28\u001b[0m \u001b[0;34m\u001b[0m\u001b[0m\n\u001b[1;32m     29\u001b[0m     \u001b[0;32mfor\u001b[0m \u001b[0mi\u001b[0m \u001b[0;32min\u001b[0m \u001b[0mslice_starts\u001b[0m\u001b[0;34m:\u001b[0m\u001b[0;34m\u001b[0m\u001b[0;34m\u001b[0m\u001b[0m\n\u001b[0;32m---> 30\u001b[0;31m         \u001b[0maudio_slice\u001b[0m \u001b[0;34m=\u001b[0m \u001b[0maudio_segment\u001b[0m\u001b[0;34m[\u001b[0m\u001b[0mi\u001b[0m\u001b[0;34m:\u001b[0m\u001b[0mi\u001b[0m \u001b[0;34m+\u001b[0m \u001b[0mmin_silence_len\u001b[0m\u001b[0;34m]\u001b[0m\u001b[0;34m\u001b[0m\u001b[0;34m\u001b[0m\u001b[0m\n\u001b[0m\u001b[1;32m     31\u001b[0m         \u001b[0;32mif\u001b[0m \u001b[0maudio_slice\u001b[0m\u001b[0;34m.\u001b[0m\u001b[0mrms\u001b[0m \u001b[0;34m<=\u001b[0m \u001b[0msilence_thresh\u001b[0m\u001b[0;34m:\u001b[0m\u001b[0;34m\u001b[0m\u001b[0;34m\u001b[0m\u001b[0m\n\u001b[1;32m     32\u001b[0m             \u001b[0msilence_starts\u001b[0m\u001b[0;34m.\u001b[0m\u001b[0mappend\u001b[0m\u001b[0;34m(\u001b[0m\u001b[0mi\u001b[0m\u001b[0;34m)\u001b[0m\u001b[0;34m\u001b[0m\u001b[0;34m\u001b[0m\u001b[0m\n",
      "\u001b[0;32m~/Documents/programs/singer_identification/lib/python3.6/site-packages/pydub/audio_segment.py\u001b[0m in \u001b[0;36m__getitem__\u001b[0;34m(self, millisecond)\u001b[0m\n\u001b[1;32m    311\u001b[0m         \u001b[0mstart\u001b[0m \u001b[0;34m=\u001b[0m \u001b[0mself\u001b[0m\u001b[0;34m.\u001b[0m\u001b[0m_parse_position\u001b[0m\u001b[0;34m(\u001b[0m\u001b[0mstart\u001b[0m\u001b[0;34m)\u001b[0m \u001b[0;34m*\u001b[0m \u001b[0mself\u001b[0m\u001b[0;34m.\u001b[0m\u001b[0mframe_width\u001b[0m\u001b[0;34m\u001b[0m\u001b[0;34m\u001b[0m\u001b[0m\n\u001b[1;32m    312\u001b[0m         \u001b[0mend\u001b[0m \u001b[0;34m=\u001b[0m \u001b[0mself\u001b[0m\u001b[0;34m.\u001b[0m\u001b[0m_parse_position\u001b[0m\u001b[0;34m(\u001b[0m\u001b[0mend\u001b[0m\u001b[0;34m)\u001b[0m \u001b[0;34m*\u001b[0m \u001b[0mself\u001b[0m\u001b[0;34m.\u001b[0m\u001b[0mframe_width\u001b[0m\u001b[0;34m\u001b[0m\u001b[0;34m\u001b[0m\u001b[0m\n\u001b[0;32m--> 313\u001b[0;31m         \u001b[0mdata\u001b[0m \u001b[0;34m=\u001b[0m \u001b[0mself\u001b[0m\u001b[0;34m.\u001b[0m\u001b[0m_data\u001b[0m\u001b[0;34m[\u001b[0m\u001b[0mstart\u001b[0m\u001b[0;34m:\u001b[0m\u001b[0mend\u001b[0m\u001b[0;34m]\u001b[0m\u001b[0;34m\u001b[0m\u001b[0;34m\u001b[0m\u001b[0m\n\u001b[0m\u001b[1;32m    314\u001b[0m \u001b[0;34m\u001b[0m\u001b[0m\n\u001b[1;32m    315\u001b[0m         \u001b[0;31m# ensure the output is as long as the requester is expecting\u001b[0m\u001b[0;34m\u001b[0m\u001b[0;34m\u001b[0m\u001b[0;34m\u001b[0m\u001b[0m\n",
      "\u001b[0;31mKeyboardInterrupt\u001b[0m: "
     ]
    }
   ],
   "source": [
    "#training dataset location text file\n",
    "location = \"/media/abhiroopd/New Volume/audio/\"\n",
    "#5 songs per singer, each has mfccs of size 20x130, we stack them vertically\n",
    "features = np.empty([100, 130])\n",
    "count = 1 \n",
    "i = 0\n",
    "with open(\"train.txt\", \"r\") as training_file:\n",
    "    for path in training_file:\n",
    "        #remove leading and trailing spaces\n",
    "        path = path.strip()\n",
    "        song_array = remove_silence(location+path)\n",
    "        mfccs = scaled_mfccs(song_array)\n",
    "        \n",
    "#         if(count <= 5):\n",
    "#             features[i:i+20, :] = mfccs\n",
    "#             i = i+1\n",
    "#         if(count == 5):    \n",
    "#             gmm =  GMM(n_components=3).fit(features)   \n",
    "#             count = 0\n",
    "#             i = 0\n",
    "#         count = count+1    "
   ]
  },
  {
   "cell_type": "code",
   "execution_count": 89,
   "metadata": {},
   "outputs": [
    {
     "name": "stdout",
     "output_type": "stream",
     "text": [
      "[-202  -96  114 ...    0    0    0]\n"
     ]
    },
    {
     "name": "stderr",
     "output_type": "stream",
     "text": [
      "/home/abhiroopd/Documents/programs/singer_identification/lib/python3.6/site-packages/sklearn/preprocessing/data.py:172: UserWarning: Numerical issues were encountered when centering the data and might not be solved. Dataset may contain too large values. You may need to prescale your features.\n",
      "  warnings.warn(\"Numerical issues were encountered \"\n",
      "/home/abhiroopd/Documents/programs/singer_identification/lib/python3.6/site-packages/sklearn/preprocessing/data.py:189: UserWarning: Numerical issues were encountered when scaling the data and might not be solved. The standard deviation of the data is probably very close to 0. \n",
      "  warnings.warn(\"Numerical issues were encountered \"\n"
     ]
    },
    {
     "data": {
      "image/png": "[encoded data removed]",
      "text/plain": [
       "<Figure size 432x288 with 1 Axes>"
      ]
     },
     "metadata": {
      "needs_background": "light"
     },
     "output_type": "display_data"
    }
   ],
   "source": [
    "song_array = remove_silence('download.wav')\n",
    "print(song_array)\n",
    "mfccs = scaled_mfccs(song_array)\n",
    "librosa.display.specshow(mfccs, x_axis='time')\n",
    "plot.show()"
   ]
  },
  {
   "cell_type": "code",
   "execution_count": null,
   "metadata": {},
   "outputs": [],
   "source": []
  }
 ],
 "metadata": {
  "kernelspec": {
   "display_name": "Python 3",
   "language": "python",
   "name": "python3"
  },
  "language_info": {
   "codemirror_mode": {
    "name": "ipython",
    "version": 3
   },
   "file_extension": ".py",
   "mimetype": "text/x-python",
   "name": "python",
   "nbconvert_exporter": "python",
   "pygments_lexer": "ipython3",
   "version": "3.6.8"
  }
 },
 "nbformat": 4,
 "nbformat_minor": 2
}
